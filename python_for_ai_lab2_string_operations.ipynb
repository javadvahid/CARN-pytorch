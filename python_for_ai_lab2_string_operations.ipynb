{
  "nbformat": 4,
  "nbformat_minor": 0,
  "metadata": {
    "colab": {
      "name": "python-for-ai-lab2-string-operations.ipynb",
      "provenance": [],
      "collapsed_sections": [],
      "authorship_tag": "ABX9TyN5G6nBiNHImFYw5NlEi6dv",
      "include_colab_link": true
    },
    "kernelspec": {
      "name": "python3",
      "display_name": "Python 3"
    },
    "language_info": {
      "name": "python"
    }
  },
  "cells": [
    {
      "cell_type": "markdown",
      "metadata": {
        "id": "view-in-github",
        "colab_type": "text"
      },
      "source": [
        "<a href=\"https://colab.research.google.com/github/javadvahid/CARN-pytorch/blob/master/python_for_ai_lab2_string_operations.ipynb\" target=\"_parent\"><img src=\"https://colab.research.google.com/assets/colab-badge.svg\" alt=\"Open In Colab\"/></a>"
      ]
    },
    {
      "cell_type": "markdown",
      "source": [
        "# **String** operations\n",
        "\n",
        "# Indexing\n",
        "\n",
        "Accest different characters of a string using its corresponding index\n",
        "\n",
        "دسترسی به کاراکتر های مختلف یک رشته با استفاده از اندیس متناظر با آن\n",
        "\n",
        "create a new variable and asign \"aiotronics\" to it.\n",
        "\n",
        "یک متغیر جدید بسازید\n",
        "\n",
        "access different elements of that new variable using different indexes\n",
        "\n",
        "برای دسترسی به کاراکتر های مختلف آن متغیر جدید، از اندیس های مختلف استفاده کنید و نتیجه را در خروجی چاپ کنید\n",
        "\n",
        "<p align=\"center\" width=\"100%\">\n",
        "    <img width=\"80%\" src=\"https://drive.google.com/uc?id=1tNJF0OjvquiqkmVQmY9aZIthfFOuBqH1\">\n",
        "</p>\n"
      ],
      "metadata": {
        "id": "gt19bQdfO7ms"
      }
    },
    {
      "cell_type": "code",
      "execution_count": 2,
      "metadata": {
        "colab": {
          "base_uri": "https://localhost:8080/"
        },
        "id": "68KZbwSLOI00",
        "outputId": "27480702-28e1-48e6-f49f-3bd1625f055b"
      },
      "outputs": [
        {
          "output_type": "stream",
          "name": "stdout",
          "text": [
            "o\n",
            "t\n"
          ]
        }
      ],
      "source": [
        "#create a new variable\n",
        "name = \"aiotronics\"\n",
        "#access different elements using indexes\n",
        "#با تغییر دادن اندیس ها حالت های مختلف را امتحان کنید و در خروجی چاپ کنید\n",
        "print(name[2])\n",
        "print(name[3])"
      ]
    },
    {
      "cell_type": "code",
      "source": [
        "#access different characters using negative indexing\n",
        "#با تغییر دادن اندیس ها حالت های مختلف را امتحان کنید و در خروجی چاپ کنید\n",
        "\n",
        "print(name[-1])\n",
        "print(name[-2])"
      ],
      "metadata": {
        "colab": {
          "base_uri": "https://localhost:8080/"
        },
        "id": "DEREiKaIRPut",
        "outputId": "14fe192d-f8a4-4bfb-dd43-6d0e616e7289"
      },
      "execution_count": 4,
      "outputs": [
        {
          "output_type": "stream",
          "name": "stdout",
          "text": [
            "s\n",
            "c\n"
          ]
        }
      ]
    },
    {
      "cell_type": "code",
      "source": [
        "#slicing\n",
        "#با تغییر دادن اندیس ها حالت های مختلف را امتحان کنید و در خروجی چاپ کنید\n",
        "\n",
        "print(name[:4])\n",
        "print(name[2:8])"
      ],
      "metadata": {
        "colab": {
          "base_uri": "https://localhost:8080/"
        },
        "id": "84omIx3sUe9p",
        "outputId": "b41cd7cd-6902-4279-c5e9-67f3d081498e"
      },
      "execution_count": 11,
      "outputs": [
        {
          "output_type": "stream",
          "name": "stdout",
          "text": [
            "aiot\n",
            "otroni\n"
          ]
        }
      ]
    },
    {
      "cell_type": "markdown",
      "source": [
        "# stride format :   name[start:end:stride]"
      ],
      "metadata": {
        "id": "3g8-53D2V_8A"
      }
    },
    {
      "cell_type": "code",
      "source": [
        "#stride\n",
        "#با تغییر دادن اندیس ها حالت های مختلف را امتحان کنید و در خروجی چاپ کنید\n",
        "\n",
        "print(name[::2])\n",
        "name[::2]"
      ],
      "metadata": {
        "colab": {
          "base_uri": "https://localhost:8080/",
          "height": 53
        },
        "id": "W_B4NgQBVwp7",
        "outputId": "041f3809-fd6a-470b-b12b-bb7f69845b47"
      },
      "execution_count": 12,
      "outputs": [
        {
          "output_type": "stream",
          "name": "stdout",
          "text": [
            "aornc\n"
          ]
        },
        {
          "output_type": "execute_result",
          "data": {
            "text/plain": [
              "'aornc'"
            ],
            "application/vnd.google.colaboratory.intrinsic+json": {
              "type": "string"
            }
          },
          "metadata": {},
          "execution_count": 12
        }
      ]
    },
    {
      "cell_type": "code",
      "source": [
        "print(name[2:6:2])"
      ],
      "metadata": {
        "colab": {
          "base_uri": "https://localhost:8080/"
        },
        "id": "3CZghuotWYfi",
        "outputId": "2fb40bb1-6213-4035-de7a-81594e5c5766"
      },
      "execution_count": 13,
      "outputs": [
        {
          "output_type": "stream",
          "name": "stdout",
          "text": [
            "or\n"
          ]
        }
      ]
    },
    {
      "cell_type": "markdown",
      "source": [
        "# Concatenate(Combine)\n",
        "\n",
        "<p align=\"center\" width=\"100%\">\n",
        "    <img width=\"80%\" src=\"https://drive.google.com/uc?id=11sa7cR1nfHkYzyEqE2chQhO3MhIC-s0t\">\n",
        "</p>"
      ],
      "metadata": {
        "id": "87FsFSqMYlm3"
      }
    },
    {
      "cell_type": "code",
      "source": [
        "#concatenate\n",
        "#حالت های متخلف با رشته ها و جمله های مختلف را امتحان کنید و نتیجه را مشاهده کنید\n",
        "name = \"aiotronics\"\n",
        "jomle = name + \"is an AI company\"\n",
        "jomle"
      ],
      "metadata": {
        "colab": {
          "base_uri": "https://localhost:8080/",
          "height": 35
        },
        "id": "0TzS0x8EXRx8",
        "outputId": "5806be41-bc2a-490a-a3d4-61c2cafad254"
      },
      "execution_count": 14,
      "outputs": [
        {
          "output_type": "execute_result",
          "data": {
            "text/plain": [
              "'aiotronicsis an AI company'"
            ],
            "application/vnd.google.colaboratory.intrinsic+json": {
              "type": "string"
            }
          },
          "metadata": {},
          "execution_count": 14
        }
      ]
    },
    {
      "cell_type": "markdown",
      "source": [
        "# string replication\n",
        "\n",
        " <p align=\"center\" width=\"100%\">\n",
        "    <img width=\"80%\" src=\"https://drive.google.com/uc?id=12RbSnIgjdkHnbkTguaXD_N1HjpnywMyw\">\n",
        "</p>"
      ],
      "metadata": {
        "id": "rgNzSN3iZXPg"
      }
    },
    {
      "cell_type": "code",
      "source": [
        "#string replication\n",
        "#حالت های مختلف را امتحان کنید و نتیجه رو ببینید\n",
        "name2 = 2 * name\n",
        "print(name2)\n",
        "name2"
      ],
      "metadata": {
        "colab": {
          "base_uri": "https://localhost:8080/",
          "height": 53
        },
        "id": "BUZWpKYyZvy_",
        "outputId": "06c570e9-ffda-4abb-bbd2-ad62597819fb"
      },
      "execution_count": 16,
      "outputs": [
        {
          "output_type": "stream",
          "name": "stdout",
          "text": [
            "aiotronicsaiotronics\n"
          ]
        },
        {
          "output_type": "execute_result",
          "data": {
            "text/plain": [
              "'aiotronicsaiotronics'"
            ],
            "application/vnd.google.colaboratory.intrinsic+json": {
              "type": "string"
            }
          },
          "metadata": {},
          "execution_count": 16
        }
      ]
    },
    {
      "cell_type": "code",
      "source": [
        "#item assignemnt error\n",
        "name[1] = \"r\""
      ],
      "metadata": {
        "colab": {
          "base_uri": "https://localhost:8080/",
          "height": 182
        },
        "id": "T6H3as-CZ1aA",
        "outputId": "3bd6b4e8-476a-4a3a-cfbf-e2a39be8220d"
      },
      "execution_count": 17,
      "outputs": [
        {
          "output_type": "error",
          "ename": "TypeError",
          "evalue": "ignored",
          "traceback": [
            "\u001b[0;31m---------------------------------------------------------------------------\u001b[0m",
            "\u001b[0;31mTypeError\u001b[0m                                 Traceback (most recent call last)",
            "\u001b[0;32m<ipython-input-17-bccba5081a83>\u001b[0m in \u001b[0;36m<module>\u001b[0;34m()\u001b[0m\n\u001b[1;32m      1\u001b[0m \u001b[0;31m#item assignemnt error\u001b[0m\u001b[0;34m\u001b[0m\u001b[0;34m\u001b[0m\u001b[0;34m\u001b[0m\u001b[0m\n\u001b[0;32m----> 2\u001b[0;31m \u001b[0mname\u001b[0m\u001b[0;34m[\u001b[0m\u001b[0;36m1\u001b[0m\u001b[0;34m]\u001b[0m \u001b[0;34m=\u001b[0m \u001b[0;34m\"r\"\u001b[0m\u001b[0;34m\u001b[0m\u001b[0;34m\u001b[0m\u001b[0m\n\u001b[0m",
            "\u001b[0;31mTypeError\u001b[0m: 'str' object does not support item assignment"
          ]
        }
      ]
    },
    {
      "cell_type": "markdown",
      "source": [
        "# String: Escape Sequences\n",
        "\n",
        "<p align=\"center\" width=\"100%\">\n",
        "    <img width=\"80%\" src=\"https://drive.google.com/uc?id=1d0zpt49f68D2nrVDKUgpDEkr4pMCAUbn\">\n",
        "</p>"
      ],
      "metadata": {
        "id": "T8sw5plkaHTW"
      }
    },
    {
      "cell_type": "code",
      "source": [
        "#new line\n",
        "print(\"aiotronics is an \\nAI company\")\n",
        "print(\"aiotronics is an \\n AI company\")"
      ],
      "metadata": {
        "colab": {
          "base_uri": "https://localhost:8080/"
        },
        "id": "_ughh6oMaGLq",
        "outputId": "85eed41c-4251-48c3-b017-60bf7e1508b5"
      },
      "execution_count": 20,
      "outputs": [
        {
          "output_type": "stream",
          "name": "stdout",
          "text": [
            "aiotronics is an \n",
            "AI company\n",
            "aiotronics is an \n",
            " AI company\n"
          ]
        }
      ]
    },
    {
      "cell_type": "code",
      "source": [
        "#tab\n",
        "print(\"aiotronics is an \\t AI company\")\n"
      ],
      "metadata": {
        "colab": {
          "base_uri": "https://localhost:8080/"
        },
        "id": "xwO15Jtnau3p",
        "outputId": "88246fdb-0d4a-4ba9-b24a-ff9972632fad"
      },
      "execution_count": 24,
      "outputs": [
        {
          "output_type": "stream",
          "name": "stdout",
          "text": [
            "aiotronics is an \t AI company\n"
          ]
        }
      ]
    },
    {
      "cell_type": "code",
      "source": [
        "# \\\n",
        "print(\"aiotronics is an \\\\ AI company\")\n",
        "print(r\"aiotronics is an \\ AI company\")"
      ],
      "metadata": {
        "colab": {
          "base_uri": "https://localhost:8080/"
        },
        "id": "ekUIhCVPbDER",
        "outputId": "9e375ebd-f482-4f4c-b8f7-715fbc2ff68f"
      },
      "execution_count": 25,
      "outputs": [
        {
          "output_type": "stream",
          "name": "stdout",
          "text": [
            "aiotronics is an \\ AI company\n",
            "aiotronics is an \\ AI company\n"
          ]
        }
      ]
    },
    {
      "cell_type": "markdown",
      "source": [
        "# **String Methods**\n",
        "\n",
        "<p align=\"center\" width=\"100%\">\n",
        "    <img width=\"80%\" src=\"https://drive.google.com/uc?id=1rKj05Dx8VQNRm-K62cdYZo1SOKOAlmTM\">\n",
        "</p>"
      ],
      "metadata": {
        "id": "2-E9ja3eO5gv"
      }
    },
    {
      "cell_type": "code",
      "source": [
        "#upper() method\n",
        "#جمله های مختلف را امتحان کنید\n",
        "\n",
        "A = \"aiotronics is an AI company\"\n",
        "B = A.upper()\n",
        "B"
      ],
      "metadata": {
        "colab": {
          "base_uri": "https://localhost:8080/",
          "height": 35
        },
        "id": "UhaQ79Kmb2Lp",
        "outputId": "1c829b15-adbb-4ff5-b8d3-60f1530706eb"
      },
      "execution_count": 26,
      "outputs": [
        {
          "output_type": "execute_result",
          "data": {
            "text/plain": [
              "'AIOTRONICS IS AN AI COMPANY'"
            ],
            "application/vnd.google.colaboratory.intrinsic+json": {
              "type": "string"
            }
          },
          "metadata": {},
          "execution_count": 26
        }
      ]
    },
    {
      "cell_type": "code",
      "source": [
        "#replace() method\n",
        "#حالت های مختلف را برای بخش های مختلف از جمه امتحان کنید\n",
        "\n",
        "B = A.replace('AI', 'electronic')\n",
        "B"
      ],
      "metadata": {
        "colab": {
          "base_uri": "https://localhost:8080/",
          "height": 35
        },
        "id": "fLNu9z9ScFk4",
        "outputId": "8f7bfb90-ffaf-412a-fa78-67c9e2a404c9"
      },
      "execution_count": 27,
      "outputs": [
        {
          "output_type": "execute_result",
          "data": {
            "text/plain": [
              "'aiotronics is an electronic company'"
            ],
            "application/vnd.google.colaboratory.intrinsic+json": {
              "type": "string"
            }
          },
          "metadata": {},
          "execution_count": 27
        }
      ]
    },
    {
      "cell_type": "code",
      "source": [
        "B = A.replace(\"is\", 'will be')\n",
        "B"
      ],
      "metadata": {
        "colab": {
          "base_uri": "https://localhost:8080/",
          "height": 35
        },
        "id": "hcyKz-G6cbY-",
        "outputId": "c25b63d6-735c-48ff-c4d6-5119143f9d0e"
      },
      "execution_count": 28,
      "outputs": [
        {
          "output_type": "execute_result",
          "data": {
            "text/plain": [
              "'aiotronics will be an AI company'"
            ],
            "application/vnd.google.colaboratory.intrinsic+json": {
              "type": "string"
            }
          },
          "metadata": {},
          "execution_count": 28
        }
      ]
    },
    {
      "cell_type": "code",
      "source": [
        "#جایگزینی عبارتی که اصلا در جمله وجود ندارد\n",
        "#تغییری  ایجاد نمی کند\n",
        "B = A.replace(\"JJ\", \"aiotronics\")\n",
        "B"
      ],
      "metadata": {
        "colab": {
          "base_uri": "https://localhost:8080/",
          "height": 35
        },
        "id": "2bJwWjRjcoDQ",
        "outputId": "eca1b45b-8051-4a6a-f3cf-eee6d23ccf1b"
      },
      "execution_count": 32,
      "outputs": [
        {
          "output_type": "execute_result",
          "data": {
            "text/plain": [
              "'aiotronics is an AI company'"
            ],
            "application/vnd.google.colaboratory.intrinsic+json": {
              "type": "string"
            }
          },
          "metadata": {},
          "execution_count": 32
        }
      ]
    },
    {
      "cell_type": "markdown",
      "source": [
        "# **String Methods  -  2**\n",
        "\n",
        "<p align=\"center\" width=\"100%\">\n",
        "    <img width=\"80%\" src=\"https://drive.google.com/uc?id=1wqLq1LRZl-_D9HGZm03L0EnGT70Jgd7Z\">\n",
        "</p>"
      ],
      "metadata": {
        "id": "_We-WTcGd9LN"
      }
    },
    {
      "cell_type": "code",
      "source": [
        "#find method\n",
        "#با تغییر کد حالت های مختلف را امتحان کنید\n",
        "A = \"aiotronics\"\n",
        "B = A.find('nics')\n",
        "B"
      ],
      "metadata": {
        "colab": {
          "base_uri": "https://localhost:8080/"
        },
        "id": "ci3YT7NUdv3c",
        "outputId": "e7f338f4-98e2-496c-fe93-b4c99f84ee5f"
      },
      "execution_count": 34,
      "outputs": [
        {
          "output_type": "execute_result",
          "data": {
            "text/plain": [
              "6"
            ]
          },
          "metadata": {},
          "execution_count": 34
        }
      ]
    },
    {
      "cell_type": "code",
      "source": [
        "#find method\n",
        "#حالتی که عبارت مورد نظر یافت نمی شود\n",
        "A = \"aiotronics\"\n",
        "B = A.find('javad')\n",
        "B"
      ],
      "metadata": {
        "colab": {
          "base_uri": "https://localhost:8080/"
        },
        "id": "ny7SIUpRdMKJ",
        "outputId": "a813b9a6-5427-4691-c747-83e6b07b7205"
      },
      "execution_count": 35,
      "outputs": [
        {
          "output_type": "execute_result",
          "data": {
            "text/plain": [
              "-1"
            ]
          },
          "metadata": {},
          "execution_count": 35
        }
      ]
    },
    {
      "cell_type": "markdown",
      "source": [
        "# Exercise(تمرین)_1:\n",
        "\n",
        "use negative indexing and slicing to output all the characters of the \"aiotronics\" string except the last  character\n",
        "\n",
        "از ایندکس منفی و اسلایس استفاده کنید و رشته مورد نظر را به جز کاراکتر آخر در خروجی چاپ کنید"
      ],
      "metadata": {
        "id": "FxvitPeSfM7n"
      }
    },
    {
      "cell_type": "code",
      "source": [
        "#exercise\n",
        "name = \"aiotronics\"\n",
        "#print all character but the last one\n"
      ],
      "metadata": {
        "id": "i4rcA6lufMq9"
      },
      "execution_count": null,
      "outputs": []
    },
    {
      "cell_type": "code",
      "source": [
        ""
      ],
      "metadata": {
        "id": "IjcyoFMafK1P"
      },
      "execution_count": null,
      "outputs": []
    }
  ]
}